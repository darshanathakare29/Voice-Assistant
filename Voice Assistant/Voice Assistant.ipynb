{
 "cells": [
  {
   "cell_type": "code",
   "execution_count": 3,
   "id": "f70887a2-9c4b-44f4-8a5d-c08a1cb0f01e",
   "metadata": {},
   "outputs": [],
   "source": [
    "#VOICE ASSISTANCE\n"
   ]
  },
  {
   "cell_type": "code",
   "execution_count": 5,
   "id": "ed3234ff-4b04-4681-bd77-38f25204ca1b",
   "metadata": {},
   "outputs": [
    {
     "name": "stdout",
     "output_type": "stream",
     "text": [
      "Requirement already satisfied: pyttsx3 in c:\\users\\darshana\\appdata\\local\\programs\\python\\python312\\lib\\site-packages (2.90)\n",
      "Requirement already satisfied: comtypes in c:\\users\\darshana\\appdata\\local\\programs\\python\\python312\\lib\\site-packages (from pyttsx3) (1.4.4)\n",
      "Requirement already satisfied: pypiwin32 in c:\\users\\darshana\\appdata\\local\\programs\\python\\python312\\lib\\site-packages (from pyttsx3) (223)\n",
      "Requirement already satisfied: pywin32 in c:\\users\\darshana\\appdata\\local\\programs\\python\\python312\\lib\\site-packages (from pyttsx3) (306)\n",
      "Note: you may need to restart the kernel to use updated packages.\n"
     ]
    }
   ],
   "source": [
    "pip install pyttsx3"
   ]
  },
  {
   "cell_type": "code",
   "execution_count": 7,
   "id": "c87f7d2a-9299-4399-8dcb-26afe8972991",
   "metadata": {},
   "outputs": [
    {
     "name": "stdout",
     "output_type": "stream",
     "text": [
      "Requirement already satisfied: wikipedia in c:\\users\\darshana\\appdata\\local\\programs\\python\\python312\\lib\\site-packages (1.4.0)\n",
      "Requirement already satisfied: beautifulsoup4 in c:\\users\\darshana\\appdata\\local\\programs\\python\\python312\\lib\\site-packages (from wikipedia) (4.12.3)\n",
      "Requirement already satisfied: requests<3.0.0,>=2.0.0 in c:\\users\\darshana\\appdata\\local\\programs\\python\\python312\\lib\\site-packages (from wikipedia) (2.32.3)\n",
      "Requirement already satisfied: charset-normalizer<4,>=2 in c:\\users\\darshana\\appdata\\local\\programs\\python\\python312\\lib\\site-packages (from requests<3.0.0,>=2.0.0->wikipedia) (3.3.2)\n",
      "Requirement already satisfied: idna<4,>=2.5 in c:\\users\\darshana\\appdata\\local\\programs\\python\\python312\\lib\\site-packages (from requests<3.0.0,>=2.0.0->wikipedia) (3.7)\n",
      "Requirement already satisfied: urllib3<3,>=1.21.1 in c:\\users\\darshana\\appdata\\local\\programs\\python\\python312\\lib\\site-packages (from requests<3.0.0,>=2.0.0->wikipedia) (2.2.1)\n",
      "Requirement already satisfied: certifi>=2017.4.17 in c:\\users\\darshana\\appdata\\local\\programs\\python\\python312\\lib\\site-packages (from requests<3.0.0,>=2.0.0->wikipedia) (2024.6.2)\n",
      "Requirement already satisfied: soupsieve>1.2 in c:\\users\\darshana\\appdata\\local\\programs\\python\\python312\\lib\\site-packages (from beautifulsoup4->wikipedia) (2.5)\n",
      "Note: you may need to restart the kernel to use updated packages.\n"
     ]
    }
   ],
   "source": [
    "pip install wikipedia"
   ]
  },
  {
   "cell_type": "code",
   "execution_count": 19,
   "id": "6a5c99b8-62e9-476e-ae41-afe10b72286d",
   "metadata": {},
   "outputs": [
    {
     "name": "stdin",
     "output_type": "stream",
     "text": [
      "Search Wikipedia: akshay kumar\n"
     ]
    },
    {
     "name": "stdout",
     "output_type": "stream",
     "text": [
      "Akshay Hari Om Bhatia (born Rajiv Hari Om Bhatia; 9 September 1967), known professionally as Akshay Kumar (pronounced [əkˈʂəj kʊˈmɑːɾ]), is an Indian actor and film producer working in Hindi cinema. Referred to in the media as \"Khiladi Kumar\", through his career spanning over 30 years, Kumar has appeared in over 100 films and has won several awards, including one National Film Award and two Filmfare Awards.\n"
     ]
    }
   ],
   "source": [
    "import pyttsx3\n",
    "import wikipedia\n",
    "voice=pyttsx3.init()\n",
    "In=input(\"Search Wikipedia:\")\n",
    "result=wikipedia.summary(In,sentences=2)\n",
    "print(result)\n",
    "voice.say(result)\n",
    "voice.runAndWait()"
   ]
  },
  {
   "cell_type": "code",
   "execution_count": null,
   "id": "0b0f9918-f3b4-4ae6-8823-dee9a0f0bc66",
   "metadata": {},
   "outputs": [],
   "source": []
  }
 ],
 "metadata": {
  "kernelspec": {
   "display_name": "Python 3 (ipykernel)",
   "language": "python",
   "name": "python3"
  },
  "language_info": {
   "codemirror_mode": {
    "name": "ipython",
    "version": 3
   },
   "file_extension": ".py",
   "mimetype": "text/x-python",
   "name": "python",
   "nbconvert_exporter": "python",
   "pygments_lexer": "ipython3",
   "version": "3.12.2"
  }
 },
 "nbformat": 4,
 "nbformat_minor": 5
}
